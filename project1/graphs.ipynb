{
 "cells": [
  {
   "cell_type": "code",
   "execution_count": null,
   "metadata": {},
   "outputs": [],
   "source": [
    "from collections import namedtuple\n",
    "\n",
    "import matplotlib.pyplot as plt\n",
    "%matplotlib inline\n",
    "\n",
    "import pandas as pd"
   ]
  },
  {
   "cell_type": "code",
   "execution_count": null,
   "metadata": {},
   "outputs": [],
   "source": [
    "from sympy.physics.units import convert_to, newton, meter\n",
    "mm = meter / 1000\n",
    "MPa = 1e6 * newton / meter**2\n",
    "GPa = 1e9 * newton / meter**2"
   ]
  },
  {
   "cell_type": "code",
   "execution_count": null,
   "metadata": {},
   "outputs": [],
   "source": [
    "def load(file):\n",
    "    data = pd.read_csv(file, header=[0,1], index_col=0)\n",
    "\n",
    "    data.columns= ['extension', 'load']\n",
    "\n",
    "    data.extension *= mm\n",
    "    data.load *= newton\n",
    "    \n",
    "    return data"
   ]
  },
  {
   "cell_type": "code",
   "execution_count": null,
   "metadata": {},
   "outputs": [],
   "source": [
    "sample1 = load('data/Packing_Peanuts_Instron/Starch_1.is_comp_RawData/Specimen_RawData_1.csv')"
   ]
  },
  {
   "cell_type": "code",
   "execution_count": null,
   "metadata": {},
   "outputs": [],
   "source": [
    "def process(data, area, length):\n",
    "    data['stress'] = data.load / area\n",
    "    data['strain'] = data.extension / length\n",
    "\n",
    "process(sample1, 10*mm**2, 10*mm)"
   ]
  },
  {
   "cell_type": "code",
   "execution_count": null,
   "metadata": {},
   "outputs": [],
   "source": [
    "starches = []\n",
    "\n",
    "for file, area, length in [\n",
    "    ('data/Packing_Peanuts_Instron/Starch_1.is_comp_RawData/Specimen_RawData_1.csv', 10*mm**2, 10*mm),\n",
    "    ('data/Packing_Peanuts_Instron/Starch_1.is_comp_RawData/Specimen_RawData_2.csv', 10*mm**2, 10*mm),\n",
    "    ('data/Packing_Peanuts_Instron/Starch_1.is_comp_RawData/Specimen_RawData_3.csv', 10*mm**2, 10*mm),\n",
    "    ('data/Packing_Peanuts_Instron/Starch_1.is_comp_RawData/Specimen_RawData_4.csv', 10*mm**2, 10*mm),\n",
    "]:\n",
    "    sample = load(file)\n",
    "    process(sample, area, length)\n",
    "    starches.append(sample)"
   ]
  },
  {
   "cell_type": "code",
   "execution_count": null,
   "metadata": {},
   "outputs": [],
   "source": [
    "starches[0].head()"
   ]
  },
  {
   "cell_type": "code",
   "execution_count": null,
   "metadata": {},
   "outputs": [],
   "source": [
    "fig = plt.figure(num=None, figsize=(10, 6), dpi=1000, facecolor='w', edgecolor='k')\n",
    "\n",
    "plt.xlabel('Strain (mm)')\n",
    "plt.ylabel('Stress (MPa)')\n",
    "plt.title('Biodegradable packing peanuts')\n",
    "\n",
    "for i, sample in enumerate(starches):\n",
    "    plt.plot(-sample.strain, -sample.stress / MPa, label=f'Trial {i+1}')\n",
    "\n",
    "plt.legend();"
   ]
  },
  {
   "cell_type": "code",
   "execution_count": null,
   "metadata": {},
   "outputs": [],
   "source": []
  }
 ],
 "metadata": {
  "kernelspec": {
   "display_name": "matsci",
   "language": "python",
   "name": "matsci"
  },
  "language_info": {
   "codemirror_mode": {
    "name": "ipython",
    "version": 3
   },
   "file_extension": ".py",
   "mimetype": "text/x-python",
   "name": "python",
   "nbconvert_exporter": "python",
   "pygments_lexer": "ipython3",
   "version": "3.6.7"
  }
 },
 "nbformat": 4,
 "nbformat_minor": 2
}
