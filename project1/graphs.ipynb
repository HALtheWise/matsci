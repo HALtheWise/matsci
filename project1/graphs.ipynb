{
 "cells": [
  {
   "cell_type": "code",
   "execution_count": null,
   "metadata": {},
   "outputs": [],
   "source": [
    "import matplotlib.pyplot as plt\n",
    "%matplotlib inline\n",
    "\n",
    "import pandas as pd\n",
    "import numpy as np"
   ]
  },
  {
   "cell_type": "code",
   "execution_count": 2,
   "metadata": {},
   "outputs": [],
   "source": [
    "from sympy.physics.units import convert_to, newton, meter, second\n",
    "mm = meter / 1000\n",
    "cm = meter / 100\n",
    "MPa = 1e6 * newton / meter**2\n",
    "GPa = 1e9 * newton / meter**2"
   ]
  },
  {
   "cell_type": "markdown",
   "metadata": {},
   "source": [
    "# Instron data"
   ]
  },
  {
   "cell_type": "code",
   "execution_count": null,
   "metadata": {},
   "outputs": [],
   "source": [
    "def load(file):\n",
    "    data = pd.read_csv(file, header=[0,1], index_col=0)\n",
    "\n",
    "    data.columns= ['extension', 'load']\n",
    "\n",
    "    data.extension *= mm\n",
    "    data.load *= newton\n",
    "    \n",
    "    return data"
   ]
  },
  {
   "cell_type": "code",
   "execution_count": 60,
   "metadata": {},
   "outputs": [
    {
     "name": "stderr",
     "output_type": "stream",
     "text": [
      "/home/eric/.local/share/virtualenvs/matsci-BObU3cjQ/lib/python3.6/site-packages/pint/quantity.py:1377: UnitStrippedWarning: The unit of the quantity is stripped.\n",
      "  warnings.warn(\"The unit of the quantity is stripped.\", UnitStrippedWarning)\n"
     ]
    }
   ],
   "source": [
    "sample1 = load('data/Packing_Peanuts_Instron/Starch_1.is_comp_RawData/Specimen_RawData_1.csv')"
   ]
  },
  {
   "cell_type": "code",
   "execution_count": null,
   "metadata": {},
   "outputs": [],
   "source": [
    "def process(data, area, length, strain_offset = 0):\n",
    "    data['stress'] = -data.load / area\n",
    "    data['strain'] = -data.extension / length - strain_offset - 0.05\n",
    "    data = data[(data.strain > 0) & (data.stress > 0)]\n",
    "    return data\n",
    "\n",
    "#process(sample1, 10*mm**2, 10*mm)"
   ]
  },
  {
   "cell_type": "code",
   "execution_count": null,
   "metadata": {},
   "outputs": [],
   "source": [
    "starches = []\n",
    "\n",
    "for file, area, length, offset in [\n",
    "    ('data/Packing_Peanuts_Instron/Starch_1.is_comp_RawData/Specimen_RawData_1.csv', 2.516*cm**2, 21.3*mm, 0.035),\n",
    "    ('data/Packing_Peanuts_Instron/Starch_1.is_comp_RawData/Specimen_RawData_2.csv', 2.601*cm**2, 22.5*mm, 0),\n",
    "    ('data/Packing_Peanuts_Instron/Starch_1.is_comp_RawData/Specimen_RawData_3.csv', 2.986*cm**2, 22.7*mm, 0.03),\n",
    "    ('data/Packing_Peanuts_Instron/Starch_1.is_comp_RawData/Specimen_RawData_4.csv', 2.688*cm**2, 21.0*mm, 0.07),\n",
    "]:\n",
    "    sample = load(file)\n",
    "    sample = process(sample, area, length, offset)\n",
    "    starches.append(sample)"
   ]
  },
  {
   "cell_type": "code",
   "execution_count": null,
   "metadata": {},
   "outputs": [],
   "source": [
    "styrenes = []\n",
    "\n",
    "for file, area, length, offset in [\n",
    "    ('data/Packing_Peanuts_Instron/Pink_1.is_comp_RawData/Specimen_RawData_1.csv', 415*mm**2, 13.8*mm, 0.02),\n",
    "    ('data/Packing_Peanuts_Instron/Pink_1.is_comp_RawData/Specimen_RawData_2.csv', 415*mm**2, 15.6*mm, 0),\n",
    "    ('data/Packing_Peanuts_Instron/Pink_1.is_comp_RawData/Specimen_RawData_3.csv', 415*mm**2, 14.8*mm, 0.06),\n",
    "    ('data/Packing_Peanuts_Instron/Pink_1.is_comp_RawData/Specimen_RawData_4.csv', 415*mm**2, 15.5*mm, 0),\n",
    "]:\n",
    "    sample = load(file)\n",
    "    sample = process(sample, area, length, offset)\n",
    "    styrenes.append(sample)"
   ]
  },
  {
   "cell_type": "code",
   "execution_count": null,
   "metadata": {},
   "outputs": [],
   "source": [
    "# fig = plt.figure(num=None, figsize=(10, 6), dpi=100, facecolor='w', edgecolor='k')\n",
    "\n",
    "# plt.xlabel('Strain (mm/mm)')\n",
    "# plt.ylabel('Stress (MPa)')\n",
    "# plt.title('Biodegradable packing peanuts')\n",
    "\n",
    "# for i, sample in enumerate(starches):\n",
    "#     plt.plot(sample.strain, sample.stress / MPa, label=f'Trial {i+1}')\n",
    "\n",
    "# plt.legend();"
   ]
  },
  {
   "cell_type": "code",
   "execution_count": null,
   "metadata": {},
   "outputs": [],
   "source": [
    "# fig = plt.figure(num=None, figsize=(10, 6), dpi=100, facecolor='w', edgecolor='k')\n",
    "\n",
    "# plt.xlabel('Strain (mm/mm)')\n",
    "# plt.ylabel('Stress (MPa)')\n",
    "# plt.title('Styrene packing peanuts')\n",
    "\n",
    "# for i, sample in enumerate(styrenes):\n",
    "#     plt.plot(sample.strain, sample.stress / MPa, label=f'Trial {i+1}')\n",
    "\n",
    "# plt.legend();"
   ]
  },
  {
   "cell_type": "code",
   "execution_count": null,
   "metadata": {},
   "outputs": [],
   "source": [
    "fig = plt.figure(num=None, figsize=(10, 6), dpi=300, facecolor='w', edgecolor='k')\n",
    "\n",
    "plt.xlabel('Strain (mm/mm)')\n",
    "plt.ylabel('Stress (MPa)')\n",
    "plt.title('Foam Stress-Strain Behaviors')\n",
    "\n",
    "for i, sample in enumerate(starches):\n",
    "    starch_line = plt.plot(sample.strain, sample.stress / MPa, 'r', alpha=0.6)[0]\n",
    "\n",
    "for i, sample in enumerate(styrenes):\n",
    "    styrene_line = plt.plot(sample.strain, sample.stress / MPa, 'b', alpha=0.6)[0]\n",
    "\n",
    "plt.xlim(0, 0.6)\n",
    "plt.ylim(0.001, 0.11)\n",
    "\n",
    "plt.legend([starch_line, styrene_line], [\"Starch Samples\", \"Styrene Samples\"]);"
   ]
  },
  {
   "cell_type": "markdown",
   "metadata": {},
   "source": [
    "# Impact Data"
   ]
  },
  {
   "cell_type": "code",
   "execution_count": null,
   "metadata": {},
   "outputs": [],
   "source": [
    "def load_impact(file):\n",
    "    data = pd.read_csv(file, index_col=0, skiprows=6)\n",
    "\n",
    "#     data.extension *= mm\n",
    "#     data.load *= newton\n",
    "    \n",
    "    return data"
   ]
  },
  {
   "cell_type": "code",
   "execution_count": null,
   "metadata": {},
   "outputs": [],
   "source": [
    "def process_impact(data, length):\n",
    "    area = 150 * cm ** 2\n",
    "    data['force'] = data['Force [N]']# * newton\n",
    "    data['time'] = data['Time [ms]'] / 1000# * second\n",
    "    data['energy'] = data['Energy [J]']\n",
    "    return data\n",
    "\n",
    "#process(sample1, 10*mm**2, 10*mm)"
   ]
  },
  {
   "cell_type": "code",
   "execution_count": null,
   "metadata": {},
   "outputs": [],
   "source": [
    "starch_impact = []\n",
    "\n",
    "for file, *args in [\n",
    "    ('data/Impact_Data/White 6x8 A 1m 2nd_1_Spec_1_Ch_1.csv', 21.3*mm),\n",
    "]:\n",
    "    sample = load_impact(file)\n",
    "    sample = process_impact(sample, *args)\n",
    "    starch_impact.append(sample)\n",
    "    \n",
    "starch_impact[0].head()"
   ]
  },
  {
   "cell_type": "code",
   "execution_count": 53,
   "metadata": {},
   "outputs": [
    {
     "data": {
      "text/plain": [
       "0"
      ]
     },
     "execution_count": 53,
     "metadata": {},
     "output_type": "execute_result"
    }
   ],
   "source": [
    "0/newton"
   ]
  },
  {
   "cell_type": "code",
   "execution_count": null,
   "metadata": {},
   "outputs": [],
   "source": []
  }
 ],
 "metadata": {
  "kernelspec": {
   "display_name": "matsci",
   "language": "python",
   "name": "matsci"
  },
  "language_info": {
   "codemirror_mode": {
    "name": "ipython",
    "version": 3
   },
   "file_extension": ".py",
   "mimetype": "text/x-python",
   "name": "python",
   "nbconvert_exporter": "python",
   "pygments_lexer": "ipython3",
   "version": "3.6.7"
  }
 },
 "nbformat": 4,
 "nbformat_minor": 2
}
