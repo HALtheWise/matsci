{
 "cells": [
  {
   "cell_type": "code",
   "execution_count": 1,
   "metadata": {},
   "outputs": [],
   "source": [
    "from collections import namedtuple\n",
    "\n",
    "import matplotlib.pyplot as plt\n",
    "%matplotlib inline\n",
    "\n",
    "import pandas as pd"
   ]
  },
  {
   "cell_type": "code",
   "execution_count": 2,
   "metadata": {},
   "outputs": [],
   "source": [
    "from sympy.physics.units import convert_to, newton, meter\n",
    "mm = meter / 1000\n",
    "MPa = 1e6 * newton / meter**2\n",
    "GPa = 1e9 * newton / meter**2"
   ]
  },
  {
   "cell_type": "code",
   "execution_count": 3,
   "metadata": {},
   "outputs": [],
   "source": [
    "def load(file):\n",
    "    data = pd.read_csv(file, header=[0,1], index_col=0)\n",
    "\n",
    "    data.columns= ['extension', 'load']\n",
    "\n",
    "    data.extension *= mm\n",
    "    data.load *= newton\n",
    "    \n",
    "    return data"
   ]
  },
  {
   "cell_type": "code",
   "execution_count": 8,
   "metadata": {},
   "outputs": [],
   "source": [
    "sample1 = load('data/Packing_Peanuts_Instron/Starch_1.is_comp_RawData/Specimen_RawData_1.csv')"
   ]
  },
  {
   "cell_type": "code",
   "execution_count": 9,
   "metadata": {},
   "outputs": [],
   "source": [
    "def process(data, area, length):\n",
    "    data['stress'] = data.load / area\n",
    "    data['strain'] = data.extension / length\n",
    "\n",
    "process(sample1, 10*mm**2, 10*mm)"
   ]
  },
  {
   "cell_type": "code",
   "execution_count": 10,
   "metadata": {},
   "outputs": [
    {
     "data": {
      "text/html": [
       "<div>\n",
       "<style scoped>\n",
       "    .dataframe tbody tr th:only-of-type {\n",
       "        vertical-align: middle;\n",
       "    }\n",
       "\n",
       "    .dataframe tbody tr th {\n",
       "        vertical-align: top;\n",
       "    }\n",
       "\n",
       "    .dataframe thead th {\n",
       "        text-align: right;\n",
       "    }\n",
       "</style>\n",
       "<table border=\"1\" class=\"dataframe\">\n",
       "  <thead>\n",
       "    <tr style=\"text-align: right;\">\n",
       "      <th></th>\n",
       "      <th>extension</th>\n",
       "      <th>load</th>\n",
       "      <th>stress</th>\n",
       "      <th>strain</th>\n",
       "    </tr>\n",
       "  </thead>\n",
       "  <tbody>\n",
       "    <tr>\n",
       "      <th>0.0</th>\n",
       "      <td>-2.7e-7*meter</td>\n",
       "      <td>-0.00655*newton</td>\n",
       "      <td>-655.0*newton/meter**2</td>\n",
       "      <td>-2.70000000000000e-5</td>\n",
       "    </tr>\n",
       "    <tr>\n",
       "      <th>0.1</th>\n",
       "      <td>-2.67e-6*meter</td>\n",
       "      <td>-0.0203*newton</td>\n",
       "      <td>-2030.0*newton/meter**2</td>\n",
       "      <td>-0.000267000000000000</td>\n",
       "    </tr>\n",
       "    <tr>\n",
       "      <th>0.2</th>\n",
       "      <td>-1.307e-5*meter</td>\n",
       "      <td>-0.02163*newton</td>\n",
       "      <td>-2163.0*newton/meter**2</td>\n",
       "      <td>-0.00130700000000000</td>\n",
       "    </tr>\n",
       "    <tr>\n",
       "      <th>0.3</th>\n",
       "      <td>-2.613e-5*meter</td>\n",
       "      <td>-0.02526*newton</td>\n",
       "      <td>-2526.0*newton/meter**2</td>\n",
       "      <td>-0.00261300000000000</td>\n",
       "    </tr>\n",
       "    <tr>\n",
       "      <th>0.4</th>\n",
       "      <td>-3.827e-5*meter</td>\n",
       "      <td>-0.02419*newton</td>\n",
       "      <td>-2419.0*newton/meter**2</td>\n",
       "      <td>-0.00382700000000000</td>\n",
       "    </tr>\n",
       "  </tbody>\n",
       "</table>\n",
       "</div>"
      ],
      "text/plain": [
       "           extension             load                   stress  \\\n",
       "0.0    -2.7e-7*meter  -0.00655*newton   -655.0*newton/meter**2   \n",
       "0.1   -2.67e-6*meter   -0.0203*newton  -2030.0*newton/meter**2   \n",
       "0.2  -1.307e-5*meter  -0.02163*newton  -2163.0*newton/meter**2   \n",
       "0.3  -2.613e-5*meter  -0.02526*newton  -2526.0*newton/meter**2   \n",
       "0.4  -3.827e-5*meter  -0.02419*newton  -2419.0*newton/meter**2   \n",
       "\n",
       "                    strain  \n",
       "0.0   -2.70000000000000e-5  \n",
       "0.1  -0.000267000000000000  \n",
       "0.2   -0.00130700000000000  \n",
       "0.3   -0.00261300000000000  \n",
       "0.4   -0.00382700000000000  "
      ]
     },
     "execution_count": 10,
     "metadata": {},
     "output_type": "execute_result"
    }
   ],
   "source": [
    "sample1.head()"
   ]
  },
  {
   "cell_type": "code",
   "execution_count": 6,
   "metadata": {},
   "outputs": [
    {
     "data": {
      "image/png": "[encoded data removed]",
      "text/plain": [
       "<Figure size 432x288 with 1 Axes>"
      ]
     },
     "metadata": {
      "needs_background": "light"
     },
     "output_type": "display_data"
    }
   ],
   "source": [
    "plt.xlabel('Stress (mm)')\n",
    "plt.ylabel('Strain (MPa)')\n",
    "plt.title('Biodegradable packing peanuts')\n",
    "\n",
    "plt.plot(-sample1.strain, -sample1.stress / MPa, label='Trial 1')\n",
    "\n",
    "plt.legend();"
   ]
  },
  {
   "cell_type": "code",
   "execution_count": null,
   "metadata": {},
   "outputs": [],
   "source": []
  }
 ],
 "metadata": {
  "kernelspec": {
   "display_name": "matsci",
   "language": "python",
   "name": "matsci"
  },
  "language_info": {
   "codemirror_mode": {
    "name": "ipython",
    "version": 3
   },
   "file_extension": ".py",
   "mimetype": "text/x-python",
   "name": "python",
   "nbconvert_exporter": "python",
   "pygments_lexer": "ipython3",
   "version": "3.6.7"
  }
 },
 "nbformat": 4,
 "nbformat_minor": 2
}
